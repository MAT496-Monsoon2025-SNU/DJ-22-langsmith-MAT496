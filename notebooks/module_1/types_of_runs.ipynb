{
 "cells": [
  {
   "cell_type": "code",
   "execution_count": 1,
   "metadata": {},
   "outputs": [
    {
     "data": {
      "text/plain": [
       "True"
      ]
     },
     "execution_count": 1,
     "metadata": {},
     "output_type": "execute_result"
    }
   ],
   "source": [
    "from dotenv import load_dotenv\n",
    "load_dotenv(dotenv_path=\"../../.env\", override=True)"
   ]
  },
  {
   "cell_type": "code",
   "execution_count": 2,
   "metadata": {},
   "outputs": [
    {
     "data": {
      "text/plain": [
       "{'choices': [{'message': {'role': 'assistant',\n",
       "    'content': 'This is the most accurate recipe for Beef Wellington: https://www.gordonramsay.com/gr/recipes/beef-wellington'}}]}"
      ]
     },
     "execution_count": 2,
     "metadata": {},
     "output_type": "execute_result"
    }
   ],
   "source": [
    "from langsmith import traceable\n",
    "\n",
    "inputs = [\n",
    "  {\"role\": \"system\", \"content\": \"You are a michelin star chef and expert in culinary arts. You know everything about famous dishes\"},\n",
    "  {\"role\": \"user\", \"content\": \"What are the steps to make Beef Wellington.\"},\n",
    "]\n",
    "\n",
    "output = {\n",
    "  \"choices\": [\n",
    "      {\n",
    "          \"message\": {\n",
    "              \"role\": \"assistant\",\n",
    "              \"content\": \"This is the most accurate recipe for Beef Wellington: https://www.gordonramsay.com/gr/recipes/beef-wellington\"\n",
    "          }\n",
    "      }\n",
    "  ]\n",
    "}\n",
    "\n",
    "@traceable(\n",
    "  run_type=\"llm\",\n",
    "  metadata={\n",
    "    \"ls_provider\": \"groq\", \n",
    "    \"ls_model_name\": \"openai/gpt-oss-20b\"\n",
    "  }\n",
    ")\n",
    "def chat_model(messages: list):\n",
    "  return output\n",
    "\n",
    "\n",
    "chat_model(inputs)"
   ]
  },
  {
   "cell_type": "code",
   "execution_count": 3,
   "metadata": {},
   "outputs": [
    {
     "data": {
      "text/plain": [
       "[{'choices': [{'message': {'content': 'Hallo, LazarBeam! How are you doing mate?',\n",
       "     'role': 'assistant'}}]}]"
      ]
     },
     "execution_count": 3,
     "metadata": {},
     "output_type": "execute_result"
    }
   ],
   "source": [
    "def _reduce_chunks(chunks: list):\n",
    "    all_text = \"\".join([chunk[\"choices\"][0][\"message\"][\"content\"] for chunk in chunks])\n",
    "    return {\"choices\": [{\"message\": {\"content\": all_text, \"role\": \"assistant\"}}]}\n",
    "\n",
    "@traceable(\n",
    "    run_type=\"llm\",\n",
    "    reduce_fn=_reduce_chunks,\n",
    "    metadata={\n",
    "        \"ls_provider\": \"my_provider\", \n",
    "        \"ls_model_name\": \"my_model\"\n",
    "    }\n",
    ")\n",
    "def my_streaming_chat_model(messages: list):\n",
    "    for chunk in [\"Hallo, \" + messages[1][\"content\"] + \"! How are you doing mate?\"]:\n",
    "        yield {\n",
    "            \"choices\": [\n",
    "                {\n",
    "                    \"message\": {\n",
    "                        \"content\": chunk,\n",
    "                        \"role\": \"assistant\",\n",
    "                    }\n",
    "                }\n",
    "            ]\n",
    "        }\n",
    "\n",
    "list(\n",
    "    my_streaming_chat_model(\n",
    "        [\n",
    "            {\"role\": \"system\", \"content\": \"You are an Australian bartender who likes to joke around.\"},\n",
    "            {\"role\": \"user\", \"content\": \"LazarBeam\"},\n",
    "        ],\n",
    "    )\n",
    ")"
   ]
  },
  {
   "cell_type": "code",
   "execution_count": null,
   "metadata": {},
   "outputs": [
    {
     "data": {
      "text/plain": [
       "[{'page_content': 'Macallan 18',\n",
       "  'type': 'Drinks',\n",
       "  'metadata': {'Bar': 'The Baxter Inn'}},\n",
       " {'page_content': 'Negroni',\n",
       "  'type': 'Drinks',\n",
       "  'metadata': {'Bar': 'The Baxter Inn'}},\n",
       " {'page_content': 'Espresso Martini',\n",
       "  'type': 'Drinks',\n",
       "  'metadata': {'Bar': 'The Baxter Inn'}},\n",
       " {'page_content': 'Sex on the Beach',\n",
       "  'type': 'Drinks',\n",
       "  'metadata': {'Bar': 'The Baxter Inn'}},\n",
       " {'page_content': 'BroCode',\n",
       "  'type': 'Drinks',\n",
       "  'metadata': {'Bar': 'The Baxter Inn'}},\n",
       " {'page_content': 'Smirnoff',\n",
       "  'type': 'Drinks',\n",
       "  'metadata': {'Bar': 'The Baxter Inn'}},\n",
       " {'page_content': 'Patiala Peg',\n",
       "  'type': 'Drinks',\n",
       "  'metadata': {'Bar': 'The Baxter Inn'}}]"
      ]
     },
     "execution_count": 6,
     "metadata": {},
     "output_type": "execute_result"
    }
   ],
   "source": [
    "from langsmith import traceable\n",
    "\n",
    "def _convert_docs(results):\n",
    "  return [\n",
    "      {\n",
    "          \"page_content\": r,\n",
    "          \"type\": \"Drinks\",\n",
    "          \"metadata\": {\"Bar\": \"The Baxter Inn\"}\n",
    "      }\n",
    "      for r in results\n",
    "  ]\n",
    "\n",
    "@traceable(run_type=\"retriever\")\n",
    "def retrieve_docs(query):\n",
    "  contents = [\n",
    "    \"Macallan 18\", \n",
    "    \"Negroni\", \n",
    "    \"Espresso Martini\",\n",
    "    \"Sex on the Beach\",\n",
    "    \"BroCode\",\n",
    "    \"Smirnoff\",\n",
    "    \"Patiala Peg\"\n",
    "  ]\n",
    "  return _convert_docs(contents)\n",
    "\n",
    "retrieve_docs(\"Searching for available drinks at the bar\")"
   ]
  },
  {
   "cell_type": "code",
   "execution_count": 8,
   "metadata": {},
   "outputs": [
    {
     "data": {
      "text/plain": [
       "ChatCompletion(id='chatcmpl-cf1821cc-d83b-43cb-92d1-264b08f28547', choices=[Choice(finish_reason='stop', index=0, logprobs=None, message=ChatCompletionMessage(content='The current temperature in Anchorage, Alaska is **65\\u202f°F**.  \\n(Note: Alaska spans a huge area, so temperatures can vary widely across the state. If you need conditions for a different city or a more detailed forecast, let me know!', role='assistant', executed_tools=None, function_call=None, reasoning=None, tool_calls=None))], created=1759576516, model='openai/gpt-oss-20b', object='chat.completion', system_fingerprint='fp_c5a89987dc', usage=CompletionUsage(completion_tokens=54, prompt_tokens=856, total_tokens=910, completion_time=0.056807848, prompt_time=0.045830511, queue_time=0.042299062, total_time=0.102638359), usage_breakdown=None, x_groq={'id': 'req_01k6qexsydej8sepm7v90vtbsp'}, service_tier='on_demand')"
      ]
     },
     "execution_count": 8,
     "metadata": {},
     "output_type": "execute_result"
    }
   ],
   "source": [
    "from langsmith import traceable\n",
    "from groq import Groq\n",
    "from typing import List, Optional\n",
    "import json\n",
    "\n",
    "groq_client = Groq()\n",
    "\n",
    "@traceable(run_type=\"tool\")\n",
    "def get_current_temperature(location: str, unit: str):\n",
    "    return 65 if unit == \"Fahrenheit\" else 17\n",
    "\n",
    "@traceable(run_type=\"llm\")\n",
    "def call_groq(\n",
    "    messages: List[dict], tools: Optional[List[dict]]\n",
    ") -> str:\n",
    "  return groq_client.chat.completions.create(\n",
    "    model=\"openai/gpt-oss-20b\",\n",
    "    messages=messages,\n",
    "    temperature=0,\n",
    "    tools=tools\n",
    "  )\n",
    "\n",
    "@traceable(run_type=\"chain\")\n",
    "def ask_about_the_weather(inputs, tools):\n",
    "  response = call_groq(inputs, tools)\n",
    "  tool_call_args = json.loads(response.choices[0].message.tool_calls[0].function.arguments)\n",
    "  location = tool_call_args[\"location\"]\n",
    "  unit = tool_call_args[\"unit\"]\n",
    "  tool_response_message = {\n",
    "    \"role\": \"tool\",\n",
    "    \"content\": json.dumps({\n",
    "        \"location\": location,\n",
    "        \"unit\": unit,\n",
    "        \"temperature\": get_current_temperature(location, unit),\n",
    "    }),\n",
    "    \"tool_call_id\": response.choices[0].message.tool_calls[0].id\n",
    "  }\n",
    "  inputs.append(response.choices[0].message)\n",
    "  inputs.append(tool_response_message)\n",
    "  output = call_groq(inputs, None)\n",
    "  return output\n",
    "\n",
    "tools = [\n",
    "    {\n",
    "      \"type\": \"function\",\n",
    "      \"function\": {\n",
    "        \"name\": \"get_current_temperature\",\n",
    "        \"description\": \"Asking Reynold Wolf for the current weather\",\n",
    "        \"parameters\": {\n",
    "          \"type\": \"object\",\n",
    "          \"properties\": {\n",
    "            \"location\": {\n",
    "              \"type\": \"string\",\n",
    "              \"description\": \"The city and state, eg. Charrlotte, NC\"\n",
    "            },\n",
    "            \"unit\": {\n",
    "              \"type\": \"string\",\n",
    "              \"enum\": [\"Celsius\", \"Fahrenheit\"],\n",
    "              \"description\": \"If the user is American, use Fahrenheit, otherwise use Celsius. Rest of the world is smart like that.\"\n",
    "            }\n",
    "          },\n",
    "          \"required\": [\"location\", \"unit\"]\n",
    "        }\n",
    "      }\n",
    "    }\n",
    "]\n",
    "inputs = [\n",
    "  {\"role\": \"system\", \"content\": \"You are a weather predicting God who can predict the world everywhere in the world.\"},\n",
    "  {\"role\": \"user\", \"content\": \"What is the weather today in Alaska?\"},\n",
    "]\n",
    "\n",
    "ask_about_the_weather(inputs, tools)"
   ]
  },
  {
   "cell_type": "code",
   "execution_count": 11,
   "metadata": {},
   "outputs": [
    {
     "name": "stdout",
     "output_type": "stream",
     "text": [
      "{'declaration': 'Hear ye! The Royal Chess Council has declared its stratagems...', 'front_reports': ['In The Queenside Castle Ward: Knights charge and pawns advance in a bold gambit (Intensity: 1/10)', 'In The Sicilian Borderlands: Files and outposts are secured as lords fortify their keeps (Intensity: 9/10)', 'In The Aether Ranks and Floating Files: Knights charge and pawns advance in a bold gambit (Intensity: 9/10)', 'In The Dragon Gate of the King’s March: Knights charge and pawns advance in a bold gambit (Intensity: 3/10)', 'In The Nimzo Manor and Whispering Lanes: Kings muster escorts as passed pawns march toward coronation (Intensity: 7/10)'], 'field_guidance': 'Guard the center, claim open files, and let minor pieces seize noble outposts.'}\n"
     ]
    }
   ],
   "source": [
    "from langsmith import traceable\n",
    "import random\n",
    "\n",
    "\n",
    "@traceable(run_type=\"tool\")\n",
    "def chess_courtship(battlefront: str):\n",
    "    \"\"\"Survey chess battlefields with counsel from medieval strategists\"\"\"\n",
    "    \n",
    "    battle_conditions = {\n",
    "        \"aggressive\": \"Knights charge and pawns advance in a bold gambit\",\n",
    "        \"defensive\": \"Stonewall ranks hold fast behind sturdy bastions\",\n",
    "        \"tactical\": \"Forks, pins, and skewers spring like ambushes from hedgerows\",\n",
    "        \"positional\": \"Files and outposts are secured as lords fortify their keeps\",\n",
    "        \"endgame\": \"Kings muster escorts as passed pawns march toward coronation\"\n",
    "    }\n",
    "    stance = random.choice(list(battle_conditions.keys()))\n",
    "    \n",
    "    return {\n",
    "        \"battlefront\": battlefront,\n",
    "        \"battle_brief\": battle_conditions[stance],\n",
    "        \"pressure_gauge\": random.randint(1, 10)\n",
    "    }\n",
    "\n",
    "@traceable(run_type=\"chain\")\n",
    "def marshal_chess_campaign():\n",
    "    \"\"\"Campaign plans across the medieval chess kingdoms\"\"\"\n",
    "    battlefields = [\n",
    "        \"The Queenside Castle Ward\",\n",
    "        \"The Sicilian Borderlands\",\n",
    "        \"The Aether Ranks and Floating Files\",\n",
    "        \"The Dragon Gate of the King’s March\",\n",
    "        \"The Nimzo Manor and Whispering Lanes\"\n",
    "    ]\n",
    "    \n",
    "    dispatches = []\n",
    "    for field in battlefields:\n",
    "        report = chess_courtship(field)\n",
    "        dispatches.append(\n",
    "            f\"In {report['battlefront']}: {report['battle_brief']} (Intensity: {report['pressure_gauge']}/10)\"\n",
    "        )\n",
    "    \n",
    "    return {\n",
    "        \"declaration\": \"Hear ye! The Royal Chess Council has declared its stratagems...\",\n",
    "        \"front_reports\": dispatches,\n",
    "        \"field_guidance\": \"Guard the center, claim open files, and let minor pieces seize noble outposts.\"\n",
    "    }\n",
    "\n",
    "\n",
    "royal_bulletin = marshal_chess_campaign()\n",
    "print(royal_bulletin)\n"
   ]
  }
 ],
 "metadata": {
  "kernelspec": {
   "display_name": ".venv (3.13.5)",
   "language": "python",
   "name": "python3"
  },
  "language_info": {
   "codemirror_mode": {
    "name": "ipython",
    "version": 3
   },
   "file_extension": ".py",
   "mimetype": "text/x-python",
   "name": "python",
   "nbconvert_exporter": "python",
   "pygments_lexer": "ipython3",
   "version": "3.13.5"
  }
 },
 "nbformat": 4,
 "nbformat_minor": 4
}
