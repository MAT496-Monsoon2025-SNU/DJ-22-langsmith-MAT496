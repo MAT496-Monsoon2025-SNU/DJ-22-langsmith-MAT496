{
 "cells": [
  {
   "cell_type": "code",
   "execution_count": 1,
   "metadata": {},
   "outputs": [
    {
     "data": {
      "text/plain": [
       "True"
      ]
     },
     "execution_count": 1,
     "metadata": {},
     "output_type": "execute_result"
    }
   ],
   "source": [
    "from dotenv import load_dotenv\n",
    "load_dotenv(dotenv_path=\"../../.env\", override=True)"
   ]
  },
  {
   "cell_type": "code",
   "execution_count": 4,
   "metadata": {},
   "outputs": [
    {
     "name": "stdout",
     "output_type": "stream",
     "text": [
      "Example 1 → Similarity Score: 5\n",
      "Example 2 → Similarity Score: 4\n",
      "Example 3 → Similarity Score: 4\n",
      "Example 4 → Similarity Score: 3\n",
      "Example 5 → Similarity Score: 4\n",
      "Example 6 → Similarity Score: 4\n",
      "Example 7 → Similarity Score: 3\n",
      "Example 8 → Similarity Score: 4\n",
      "Example 9 → Similarity Score: 3\n",
      "Example 10 → Similarity Score: 4\n",
      "Example 11 → Similarity Score: 4\n",
      "Example 12 → Similarity Score: 2\n",
      "Example 13 → Similarity Score: 3\n",
      "Example 14 → Similarity Score: 2\n",
      "Example 15 → Similarity Score: 5\n"
     ]
    }
   ],
   "source": [
    "from langchain_openai import ChatOpenAI\n",
    "\n",
    "judge = ChatOpenAI(model=\"gpt-4o-mini\", temperature=0)\n",
    "\n",
    "def score_evaluator(reference, response):\n",
    "    \"\"\"Checks how similar the response is compared to the reference.\"\"\"\n",
    "    \n",
    "    prompt = f\"\"\"\n",
    "    You are a judge. Compare the following response with the reference.\n",
    "    Give a score based on similarity (clarity, logic, and flow).\n",
    "\n",
    "    Reference: {reference}\n",
    "    Response: {response}\n",
    "\n",
    "    Score (1 to 5):\n",
    "    1 = Very unsimilar\n",
    "    5 = Excellent\n",
    "\n",
    "    Only return the final number.\n",
    "    \"\"\"\n",
    "    result = judge.invoke(prompt)\n",
    "    return int(result.content.strip())\n",
    "\n",
    "\n",
    "chess = [\n",
    "    {\n",
    "        \"reference\": \"Chess is played on an 8x8 board where each side starts with 16 pieces and White moves first.\",\n",
    "        \"response\": \"It’s a checkered 8-by-8 board, both sides have 16 pieces, and White goes first.\"\n",
    "    },\n",
    "    {\n",
    "        \"reference\": \"Controlling the center (e4, d4, e5, d5) helps pieces move more freely and coordinate attacks.\",\n",
    "        \"response\": \"Own the middle squares so pieces breathe and attacks flow.\"\n",
    "    },\n",
    "    {\n",
    "        \"reference\": \"Castling is a special move that safeguards the king and develops a rook, allowed only if neither has moved and no squares are under attack.\",\n",
    "        \"response\": \"Castle to tuck the king away and pull a rook into action—just make sure it’s legal first.\"\n",
    "    },\n",
    "    {\n",
    "        \"reference\": \"A knight moves in an L-shape and can jump over other pieces, unlike any other piece.\",\n",
    "        \"response\": \"Knights hop in L-shapes and leap over traffic like it’s nothing.\"\n",
    "    },\n",
    "    {\n",
    "        \"reference\": \"A bishop moves diagonally any number of squares and each bishop stays on its starting color.\",\n",
    "        \"response\": \"Bishops slide on diagonals and never switch color tracks.\"\n",
    "    },\n",
    "    {\n",
    "        \"reference\": \"The queen combines rook and bishop moves, making it the most powerful piece.\",\n",
    "        \"response\": \"The queen zooms like a rook and a bishop combined—your powerhouse.\"\n",
    "    },\n",
    "    {\n",
    "        \"reference\": \"A pawn advances forward, captures diagonally, can move two squares on its first move, and can promote upon reaching the last rank.\",\n",
    "        \"response\": \"Pawns march ahead, bite sideways, can double-step at first, and turn into stars at the end.\"\n",
    "    },\n",
    "    {\n",
    "        \"reference\": \"Checkmate occurs when the king is in check and has no legal escape, ending the game.\",\n",
    "        \"response\": \"Mate means the king’s attacked and trapped—game over.\"\n",
    "    },\n",
    "    {\n",
    "        \"reference\": \"En passant allows a pawn to capture an adjacent pawn that just moved two squares, as if it moved one.\",\n",
    "        \"response\": \"En passant is a sneaky pawn grab right after your rival double-steps.\"\n",
    "    },\n",
    "    {\n",
    "        \"reference\": \"When ahead in material, trading pieces (not pawns) often simplifies into a winning endgame.\",\n",
    "        \"response\": \"Up material? Swap pieces off and cruise to a win.\"\n",
    "    },\n",
    "    {\n",
    "        \"reference\": \"Developing pieces efficiently in the opening (knights and bishops) and castling early improves king safety and coordination.\",\n",
    "        \"response\": \"Get knights and bishops out fast, castle early, and the rest clicks.\"\n",
    "    },\n",
    "    {\n",
    "        \"reference\": \"A fork is a tactic where one piece attacks two or more targets at once, often winning material.\",\n",
    "        \"response\": \"Forks hit two things at once—free snacks for your army.\"\n",
    "    },\n",
    "    {\n",
    "        \"reference\": \"Opposition in king-and-pawn endgames is a key concept for shouldering the enemy king away from critical squares.\",\n",
    "        \"response\": \"Use king opposition to body-block their king in pawn endings.\"\n",
    "    },\n",
    "    {\n",
    "        \"reference\": \"A discovered attack happens when a piece moves and reveals a line from another piece behind it.\",\n",
    "        \"response\": \"Uncover a hidden attacker and boom—the discovered hit lands.\"\n",
    "    },\n",
    "    {\n",
    "        \"reference\": \"Stalemate is a draw where a player has no legal moves and is not in check.\",\n",
    "        \"response\": \"Stuck with no legal moves but not checked? That’s a draw—stalemate.\"\n",
    "    }\n",
    "]\n",
    "\n",
    "\n",
    "for i, ex in enumerate(chess, 1):\n",
    "    score = score_evaluator(ex[\"reference\"], ex[\"response\"])\n",
    "    print(f\"Example {i} → Similarity Score: {score}\")"
   ]
  }
 ],
 "metadata": {
  "kernelspec": {
   "display_name": ".venv (3.13.5)",
   "language": "python",
   "name": "python3"
  },
  "language_info": {
   "codemirror_mode": {
    "name": "ipython",
    "version": 3
   },
   "file_extension": ".py",
   "mimetype": "text/x-python",
   "name": "python",
   "nbconvert_exporter": "python",
   "pygments_lexer": "ipython3",
   "version": "3.13.5"
  }
 },
 "nbformat": 4,
 "nbformat_minor": 4
}
